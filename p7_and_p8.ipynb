{
 "cells": [
  {
   "cell_type": "markdown",
   "metadata": {},
   "source": [
    ">>p7\n"
   ]
  },
  {
   "cell_type": "code",
   "execution_count": 1,
   "metadata": {},
   "outputs": [
    {
     "name": "stdout",
     "output_type": "stream",
     "text": [
      "[(1000, 'Trbati', 'Yolanda', 'F', 'Programmer')\n",
      " (1001, 'Kleinn', 'Joel', 'M', 'Programmer')\n",
      " (1002, 'Ginsburg', 'Laura', 'F', 'President')\n",
      " (1003, 'Cox', 'Jennifer', 'F', 'Programmer')\n",
      " (1005, 'Ziada', 'Mauri', 'M', 'Product Designer')\n",
      " (1006, 'Keyser', 'Cara', 'F', 'Account Executive')\n",
      " (1010, 'Smith', 'Roxie', 'M', 'Programmer')\n",
      " (1011, 'Nelson', 'Robert', 'M', 'Programmer')\n",
      " (1012, 'Sachsen', 'Lars', 'M', 'Support Technician')\n",
      " (1013, 'Shannon', 'Don', 'M', 'Product Designer')]\n"
     ]
    }
   ],
   "source": [
    "import numpy as np\n",
    "dtypes = [('emp_id', int), ('last_name', 'U20'), ('first_name', 'U20'), ('gender', 'U20'), ('Title', 'U20')]\n",
    "\n",
    "employee_table = np.array([], dtype=dtypes)\n",
    "emp1 = (1000, \"Trbati\", \"Yolanda\", \"F\", \"Programmer\")\n",
    "emp2 = (1001, \"Kleinn\", \"Joel\", \"M\", \"Programmer\")\n",
    "emp3 = (1002, \"Ginsburg\", \"Laura\", \"F\", \"President\")\n",
    "emp4 = (1003, \"Cox\", \"Jennifer\", \"F\", \"Programmer\")\n",
    "emp5 = (1005, \"Ziada\", \"Mauri\", \"M\", \"Product Designer\")\n",
    "emp6 = (1006, \"Keyser\", \"Cara\", \"F\", \"Account Executive\")\n",
    "emp7 = (1010, \"Smith\", \"Roxie\", \"M\", \"Programmer\")\n",
    "emp8 = (1011, \"Nelson\", \"Robert\", \"M\", \"Programmer\")\n",
    "emp9 = (1012, \"Sachsen\", \"Lars\", \"M\", \"Support Technician\")\n",
    "emp10 = (1013, \"Shannon\", \"Don\", \"M\", \"Product Designer\")\n",
    "\n",
    "employee_table = np.append(employee_table, np.array([emp1, emp2, emp3,emp4,emp5,emp6,emp7,emp8,emp9,emp10], dtype=dtypes))\n",
    "print(employee_table)\n"
   ]
  },
  {
   "cell_type": "markdown",
   "metadata": {},
   "source": [
    "1. How many Male employees are in a company? "
   ]
  },
  {
   "cell_type": "code",
   "execution_count": 3,
   "metadata": {},
   "outputs": [
    {
     "name": "stdout",
     "output_type": "stream",
     "text": [
      "Number of Male employees in the Company are : 6\n"
     ]
    }
   ],
   "source": [
    "male_emp = employee_table[employee_table['gender'] == 'M']\n",
    "nm= len(male_emp)\n",
    "print(\"Number of Male employees in the Company are :\",nm)   "
   ]
  },
  {
   "cell_type": "markdown",
   "metadata": {},
   "source": [
    "2.Display the details of employees whose Last_Name starts with S."
   ]
  },
  {
   "cell_type": "code",
   "execution_count": 4,
   "metadata": {},
   "outputs": [
    {
     "name": "stdout",
     "output_type": "stream",
     "text": [
      "[(1010, 'Smith', 'Roxie', 'M', 'Programmer')\n",
      " (1012, 'Sachsen', 'Lars', 'M', 'Support Technician')\n",
      " (1013, 'Shannon', 'Don', 'M', 'Product Designer')]\n"
     ]
    }
   ],
   "source": [
    "s_emp = employee_table[np.char.startswith(employee_table['last_name'], 'S')]\n",
    "print(s_emp)"
   ]
  },
  {
   "cell_type": "markdown",
   "metadata": {},
   "source": [
    "3.Sort the Female Employee details in descending order based on First_Name"
   ]
  },
  {
   "cell_type": "code",
   "execution_count": 5,
   "metadata": {},
   "outputs": [
    {
     "name": "stdout",
     "output_type": "stream",
     "text": [
      "[(1000, 'Trbati', 'Yolanda', 'F', 'Programmer')\n",
      " (1010, 'Smith', 'Roxie', 'M', 'Programmer')\n",
      " (1011, 'Nelson', 'Robert', 'M', 'Programmer')\n",
      " (1005, 'Ziada', 'Mauri', 'M', 'Product Designer')\n",
      " (1002, 'Ginsburg', 'Laura', 'F', 'President')\n",
      " (1012, 'Sachsen', 'Lars', 'M', 'Support Technician')\n",
      " (1001, 'Kleinn', 'Joel', 'M', 'Programmer')\n",
      " (1003, 'Cox', 'Jennifer', 'F', 'Programmer')\n",
      " (1013, 'Shannon', 'Don', 'M', 'Product Designer')\n",
      " (1006, 'Keyser', 'Cara', 'F', 'Account Executive')]\n"
     ]
    }
   ],
   "source": [
    "sf_emp = np.sort(employee_table, order='first_name')[::-1]\n",
    "print(sf_emp)"
   ]
  },
  {
   "cell_type": "markdown",
   "metadata": {},
   "source": [
    "4.Extract 1D array and reshape it into 2D array."
   ]
  },
  {
   "cell_type": "code",
   "execution_count": 8,
   "metadata": {},
   "outputs": [
    {
     "name": "stdout",
     "output_type": "stream",
     "text": [
      "1-D array was  [1000 1001 1002 1003 1005 1006 1010 1011 1012 1013]\n",
      "2-D array was  [[1000]\n",
      " [1001]\n",
      " [1002]\n",
      " [1003]\n",
      " [1005]\n",
      " [1006]\n",
      " [1010]\n",
      " [1011]\n",
      " [1012]\n",
      " [1013]]\n"
     ]
    }
   ],
   "source": [
    "empid_1d = employee_table['emp_id']\n",
    "empid_2d = empid_1d.reshape(-1, 1)\n",
    "print(\"1-D array was \",empid_1d)\n",
    "print(\"2-D array is \",empid_2d)\n",
    "\n"
   ]
  },
  {
   "cell_type": "markdown",
   "metadata": {},
   "source": [
    "5.Extract the below matrix using Boolean and Fancy indexing."
   ]
  },
  {
   "cell_type": "code",
   "execution_count": 19,
   "metadata": {},
   "outputs": [
    {
     "name": "stdout",
     "output_type": "stream",
     "text": [
      "[(1002, 'Ginsburg', 'President') (1003, 'Cox', 'Programmer')\n",
      " (1005, 'Ziada', 'Product Designer') (1006, 'Keyser', 'Account Executive')\n",
      " (1010, 'Smith', 'Programmer') (1011, 'Nelson', 'Programmer')\n",
      " (1012, 'Sachsen', 'Support Technician')]\n"
     ]
    }
   ],
   "source": [
    "start_emp_id = 1002\n",
    "end_emp_id = 1012\n",
    "mask = (employee_table['emp_id'] >= start_emp_id) & (employee_table['emp_id'] <= end_emp_id)\n",
    "columns_to_extract = ['emp_id', 'last_name', 'Title']\n",
    "filtered_data = employee_table[mask][columns_to_extract]\n",
    "print(filtered_data)"
   ]
  },
  {
   "cell_type": "markdown",
   "metadata": {},
   "source": [
    ">>p8"
   ]
  },
  {
   "cell_type": "markdown",
   "metadata": {},
   "source": [
    "1. Import the domain dataset that you identiied with missing values and perform the following.\n",
    "\n",
    "For each output, give the interpretation with respect to the imported dataset."
   ]
  },
  {
   "cell_type": "code",
   "execution_count": 29,
   "metadata": {},
   "outputs": [],
   "source": [
    "import numpy as np\n",
    "import pandas as pd\n",
    "d1=pd.read_csv(\"C:/Users/Hp/Downloads/archive (2)/student-mat.csv\")\n",
    "\n"
   ]
  },
  {
   "cell_type": "markdown",
   "metadata": {},
   "source": [
    "2.Read the csv file and create and understand the data frame using describe(), shape, info()."
   ]
  },
  {
   "cell_type": "code",
   "execution_count": 28,
   "metadata": {},
   "outputs": [
    {
     "name": "stdout",
     "output_type": "stream",
     "text": [
      "    school sex  age address famsize Pstatus  Medu  Fedu      Mjob      Fjob   \n",
      "0       GP   F   18       U     GT3       A     4     4   at_home   teacher  \\\n",
      "1       GP   F   17       U     GT3       T     1     1   at_home     other   \n",
      "2       GP   F   15       U     LE3       T     1     1   at_home     other   \n",
      "3       GP   F   15       U     GT3       T     4     2    health  services   \n",
      "4       GP   F   16       U     GT3       T     3     3     other     other   \n",
      "..     ...  ..  ...     ...     ...     ...   ...   ...       ...       ...   \n",
      "390     MS   M   20       U     LE3       A     2     2  services  services   \n",
      "391     MS   M   17       U     LE3       T     3     1  services  services   \n",
      "392     MS   M   21       R     GT3       T     1     1     other     other   \n",
      "393     MS   M   18       R     LE3       T     3     2  services     other   \n",
      "394     MS   M   19       U     LE3       T     1     1     other   at_home   \n",
      "\n",
      "     ... famrel freetime  goout  Dalc  Walc health absences  G1  G2  G3  \n",
      "0    ...      4        3      4     1     1      3        6   5   6   6  \n",
      "1    ...      5        3      3     1     1      3        4   5   5   6  \n",
      "2    ...      4        3      2     2     3      3       10   7   8  10  \n",
      "3    ...      3        2      2     1     1      5        2  15  14  15  \n",
      "4    ...      4        3      2     1     2      5        4   6  10  10  \n",
      "..   ...    ...      ...    ...   ...   ...    ...      ...  ..  ..  ..  \n",
      "390  ...      5        5      4     4     5      4       11   9   9   9  \n",
      "391  ...      2        4      5     3     4      2        3  14  16  16  \n",
      "392  ...      5        5      3     3     3      3        3  10   8   7  \n",
      "393  ...      4        4      1     3     4      5        0  11  12  10  \n",
      "394  ...      3        2      3     3     3      5        5   8   9   9  \n",
      "\n",
      "[395 rows x 33 columns]\n",
      "DataFrame Description:\n",
      "              age        Medu        Fedu  traveltime   studytime    failures   \n",
      "count  395.000000  395.000000  395.000000  395.000000  395.000000  395.000000  \\\n",
      "mean    16.696203    2.749367    2.521519    1.448101    2.035443    0.334177   \n",
      "std      1.276043    1.094735    1.088201    0.697505    0.839240    0.743651   \n",
      "min     15.000000    0.000000    0.000000    1.000000    1.000000    0.000000   \n",
      "25%     16.000000    2.000000    2.000000    1.000000    1.000000    0.000000   \n",
      "50%     17.000000    3.000000    2.000000    1.000000    2.000000    0.000000   \n",
      "75%     18.000000    4.000000    3.000000    2.000000    2.000000    0.000000   \n",
      "max     22.000000    4.000000    4.000000    4.000000    4.000000    3.000000   \n",
      "\n",
      "           famrel    freetime       goout        Dalc        Walc      health   \n",
      "count  395.000000  395.000000  395.000000  395.000000  395.000000  395.000000  \\\n",
      "mean     3.944304    3.235443    3.108861    1.481013    2.291139    3.554430   \n",
      "std      0.896659    0.998862    1.113278    0.890741    1.287897    1.390303   \n",
      "min      1.000000    1.000000    1.000000    1.000000    1.000000    1.000000   \n",
      "25%      4.000000    3.000000    2.000000    1.000000    1.000000    3.000000   \n",
      "50%      4.000000    3.000000    3.000000    1.000000    2.000000    4.000000   \n",
      "75%      5.000000    4.000000    4.000000    2.000000    3.000000    5.000000   \n",
      "max      5.000000    5.000000    5.000000    5.000000    5.000000    5.000000   \n",
      "\n",
      "         absences          G1          G2          G3  \n",
      "count  395.000000  395.000000  395.000000  395.000000  \n",
      "mean     5.708861   10.908861   10.713924   10.415190  \n",
      "std      8.003096    3.319195    3.761505    4.581443  \n",
      "min      0.000000    3.000000    0.000000    0.000000  \n",
      "25%      0.000000    8.000000    9.000000    8.000000  \n",
      "50%      4.000000   11.000000   11.000000   11.000000  \n",
      "75%      8.000000   13.000000   13.000000   14.000000  \n",
      "max     75.000000   19.000000   19.000000   20.000000  \n",
      "\n",
      "DataFrame Shape:\n",
      "(395, 33)\n",
      "\n",
      "DataFrame Info:\n",
      "<class 'pandas.core.frame.DataFrame'>\n",
      "RangeIndex: 395 entries, 0 to 394\n",
      "Data columns (total 33 columns):\n",
      " #   Column      Non-Null Count  Dtype \n",
      "---  ------      --------------  ----- \n",
      " 0   school      395 non-null    object\n",
      " 1   sex         395 non-null    object\n",
      " 2   age         395 non-null    int64 \n",
      " 3   address     395 non-null    object\n",
      " 4   famsize     395 non-null    object\n",
      " 5   Pstatus     395 non-null    object\n",
      " 6   Medu        395 non-null    int64 \n",
      " 7   Fedu        395 non-null    int64 \n",
      " 8   Mjob        395 non-null    object\n",
      " 9   Fjob        395 non-null    object\n",
      " 10  reason      395 non-null    object\n",
      " 11  guardian    395 non-null    object\n",
      " 12  traveltime  395 non-null    int64 \n",
      " 13  studytime   395 non-null    int64 \n",
      " 14  failures    395 non-null    int64 \n",
      " 15  schoolsup   395 non-null    object\n",
      " 16  famsup      395 non-null    object\n",
      " 17  paid        395 non-null    object\n",
      " 18  activities  395 non-null    object\n",
      " 19  nursery     395 non-null    object\n",
      " 20  higher      395 non-null    object\n",
      " 21  internet    395 non-null    object\n",
      " 22  romantic    395 non-null    object\n",
      " 23  famrel      395 non-null    int64 \n",
      " 24  freetime    395 non-null    int64 \n",
      " 25  goout       395 non-null    int64 \n",
      " 26  Dalc        395 non-null    int64 \n",
      " 27  Walc        395 non-null    int64 \n",
      " 28  health      395 non-null    int64 \n",
      " 29  absences    395 non-null    int64 \n",
      " 30  G1          395 non-null    int64 \n",
      " 31  G2          395 non-null    int64 \n",
      " 32  G3          395 non-null    int64 \n",
      "dtypes: int64(16), object(17)\n",
      "memory usage: 102.0+ KB\n",
      "None\n"
     ]
    }
   ],
   "source": [
    "print(d1)\n",
    "print(\"DataFrame Description:\")\n",
    "print(d1.describe())\n",
    "print(\"\\nDataFrame Shape:\")\n",
    "print(d1.shape)\n",
    "print(\"\\nDataFrame Info:\")\n",
    "print(d1.info()) \n"
   ]
  },
  {
   "cell_type": "markdown",
   "metadata": {},
   "source": [
    "3.Find if any missing values (null values) are in the data, handle all the rows with missing data in four different ways (delete, replace, fill, bill), and print the data frame."
   ]
  },
  {
   "cell_type": "code",
   "execution_count": 31,
   "metadata": {},
   "outputs": [],
   "source": [
    "\n",
    "df_deleted = d1.dropna()\n",
    "df_replaced = d1.fillna(-1)\n",
    "df_filled_forward = d1.ffill()\n",
    "df_filled_backward = d1.bfill()"
   ]
  },
  {
   "cell_type": "markdown",
   "metadata": {},
   "source": [
    "4.Filter based on any column using groupby()."
   ]
  },
  {
   "cell_type": "code",
   "execution_count": 40,
   "metadata": {},
   "outputs": [
    {
     "name": "stdout",
     "output_type": "stream",
     "text": [
      "Mjob\n",
      "at_home     16.966102\n",
      "health      16.352941\n",
      "other       16.751773\n",
      "services    16.679612\n",
      "teacher     16.517241\n",
      "Name: age, dtype: float64\n"
     ]
    }
   ],
   "source": [
    "grouped_data =d1.groupby('Mjob')['age'].mean()\n",
    "print(grouped_data)\n"
   ]
  },
  {
   "cell_type": "markdown",
   "metadata": {},
   "source": [
    "5.Select 20 samples randomly and Create a data frame with Hiraricle Index"
   ]
  },
  {
   "cell_type": "code",
   "execution_count": 42,
   "metadata": {},
   "outputs": [
    {
     "name": "stdout",
     "output_type": "stream",
     "text": [
      "\n",
      "DataFrame with Hierarchical Index:\n",
      "            age address famsize Pstatus  Medu  Fedu      Mjob      Fjob   \n",
      "school sex                                                                \n",
      "GP     F     15       U     LE3       A     4     3     other     other  \\\n",
      "       F     16       U     LE3       T     2     4     other    health   \n",
      "MS     F     19       R     GT3       T     2     3  services     other   \n",
      "GP     M     16       U     LE3       T     4     3    health     other   \n",
      "       F     16       R     GT3       T     3     3  services     other   \n",
      "       M     16       U     LE3       T     2     1     other     other   \n",
      "MS     F     20       U     GT3       T     4     2    health     other   \n",
      "GP     M     17       R     LE3       T     1     1     other  services   \n",
      "       M     17       U     LE3       T     4     4     other   teacher   \n",
      "       F     15       U     GT3       T     1     2   at_home     other   \n",
      "MS     M     17       U     LE3       T     3     1  services  services   \n",
      "GP     M     17       R     GT3       T     1     2   at_home     other   \n",
      "       F     15       U     GT3       A     3     3     other    health   \n",
      "       F     16       U     LE3       T     4     4    health    health   \n",
      "       M     16       U     GT3       T     3     2   at_home     other   \n",
      "       F     18       R     LE3       T     1     1   at_home     other   \n",
      "       M     15       U     GT3       T     4     4   teacher    health   \n",
      "       F     15       U     LE3       A     3     4     other     other   \n",
      "       F     17       U     LE3       T     0     2   at_home   at_home   \n",
      "MS     F     18       R     GT3       T     1     1     other     other   \n",
      "\n",
      "                reason guardian  ...  famrel  freetime  goout Dalc Walc   \n",
      "school sex                       ...                                      \n",
      "GP     F        course   mother  ...       5         2      2    1    1  \\\n",
      "       F        course   father  ...       4         2      2    1    2   \n",
      "MS     F        course   mother  ...       5         4      2    1    2   \n",
      "GP     M          home   father  ...       3         1      3    1    3   \n",
      "       F    reputation   father  ...       4         1      2    1    1   \n",
      "       M        course   mother  ...       4         2      3    1    2   \n",
      "MS     F        course    other  ...       5         4      3    1    1   \n",
      "GP     M        course   mother  ...       5         3      5    1    5   \n",
      "       M          home   father  ...       4         1      1    2    2   \n",
      "       F        course   mother  ...       4         3      2    1    1   \n",
      "MS     M        course   mother  ...       2         4      5    3    4   \n",
      "GP     M          home   mother  ...       3         1      3    1    5   \n",
      "       F    reputation   father  ...       4         3      3    1    1   \n",
      "       F         other   mother  ...       5         4      5    1    1   \n",
      "       M    reputation   mother  ...       5         3      3    1    3   \n",
      "       F    reputation   mother  ...       5         2      2    1    1   \n",
      "       M    reputation   mother  ...       3         2      2    1    1   \n",
      "       F          home   mother  ...       5         3      2    1    1   \n",
      "       F          home   father  ...       3         3      3    2    3   \n",
      "MS     F          home   mother  ...       4         3      2    1    2   \n",
      "\n",
      "           health absences  G1  G2  G3  \n",
      "school sex                              \n",
      "GP     F        5        8   8   8   6  \n",
      "       F        5        2  13  13  13  \n",
      "MS     F        5        0   7   5   0  \n",
      "GP     M        5        4   8  10  10  \n",
      "       F        2        0   7  10  10  \n",
      "       M        5        0  15  15  15  \n",
      "MS     F        3        4  15  14  15  \n",
      "GP     M        5        0   5   8   7  \n",
      "       M        5        0  11  11  10  \n",
      "       F        5        2  10  11  11  \n",
      "MS     M        2        3  14  16  16  \n",
      "GP     M        3        4   8   9  10  \n",
      "       F        4       10  10  11  11  \n",
      "       F        4        4  14  15  16  \n",
      "       M        2       10  11   9  10  \n",
      "       F        3        1  12  12  12  \n",
      "       M        5        4  14  15  15  \n",
      "       F        1        0   7  10  11  \n",
      "       F        2        0  16  15  15  \n",
      "MS     F        4        2   8   8  10  \n",
      "\n",
      "[20 rows x 31 columns]\n"
     ]
    }
   ],
   "source": [
    "random_samples = d1.sample(n=20)\n",
    "hierarchical_df = random_samples.set_index(['school', 'sex'])\n",
    "print(\"\\nDataFrame with Hierarchical Index:\")\n",
    "print(hierarchical_df)"
   ]
  }
 ],
 "metadata": {
  "kernelspec": {
   "display_name": "Python 3",
   "language": "python",
   "name": "python3"
  },
  "language_info": {
   "codemirror_mode": {
    "name": "ipython",
    "version": 3
   },
   "file_extension": ".py",
   "mimetype": "text/x-python",
   "name": "python",
   "nbconvert_exporter": "python",
   "pygments_lexer": "ipython3",
   "version": "3.11.3"
  },
  "orig_nbformat": 4
 },
 "nbformat": 4,
 "nbformat_minor": 2
}
